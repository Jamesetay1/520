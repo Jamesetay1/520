{
 "cells": [
  {
   "cell_type": "code",
   "execution_count": 15,
   "metadata": {},
   "outputs": [
    {
     "name": "stdout",
     "output_type": "stream",
     "text": [
      "True positives:106\n",
      "True negative:2479\n",
      "False positives:7\n",
      "False negatives:2\n",
      "\n",
      "precision:0.9380530973451328\n",
      "recall: 0.9814814814814815\n",
      "accuracy:0.9965304548959136\n"
     ]
    }
   ],
   "source": [
    "import numpy as np \n",
    "import re\n",
    "\n",
    "file1 = open(\"James_DrSuess.txt\",\"r+\") #GOLD STANDARD\n",
    "file2 = open(\"Program_Parsed_DrSuess.txt\",\"r+\") \n",
    "\n",
    "file1str = file1.read()\n",
    "file2str = file2.read()\n",
    "\n",
    "def parse_to_vector(filexstr):\n",
    "    wordList = re.findall(\"\\s?\\S*\\s?\", filexstr)[:-1]\n",
    "    wordcount = len(wordList)\n",
    "\n",
    "    vector = np.zeros(wordcount, dtype=int)\n",
    "    for i in range(len(vector)):\n",
    "        if '|' in wordList[i]:\n",
    "            vector[i]=1\n",
    "        \n",
    "    #print(vector)\n",
    "    return(vector)\n",
    "\n",
    "#Get vectors and combine 2 vectors into matrix\n",
    "gold_standard = parse_to_vector(file1str)\n",
    "vector = parse_to_vector(file2str)\n",
    "\n",
    "true_positive = 0\n",
    "true_negative = 0\n",
    "false_positive = 0\n",
    "false_negative = 0\n",
    "\n",
    "for i in range(len(gold_standard)):\n",
    "    if(gold_standard[i]==1 and vector[i]==1):\n",
    "        true_positive+=1\n",
    "    if(gold_standard[i]==0 and vector[i]==0):\n",
    "        true_negative+=1\n",
    "    if(gold_standard[i]==0 and vector[i]==1):\n",
    "        false_positive+=1\n",
    "    if(gold_standard[i]==1 and vector[i]==0):\n",
    "        false_negative+=1\n",
    "    \n",
    "        \n",
    "print(\"True positives:\" + str(true_positive))\n",
    "print(\"True negative:\" + str(true_negative))\n",
    "print(\"False positives:\" + str(false_positive))\n",
    "print(\"False negatives:\" + str(false_negative) + \"\\n\")\n",
    "\n",
    "precision = true_positive/(true_positive + false_positive)\n",
    "recall = true_positive/(true_positive + false_negative)\n",
    "accuracy = (true_positive + true_negative) / len(gold_standard)\n",
    "\n",
    "print(\"precision:\" + str(precision))\n",
    "print(\"recall: \" + str(recall))\n",
    "print(\"accuracy:\" + str(accuracy))"
   ]
  },
  {
   "cell_type": "code",
   "execution_count": null,
   "metadata": {},
   "outputs": [],
   "source": []
  }
 ],
 "metadata": {
  "kernelspec": {
   "display_name": "Python 3",
   "language": "python",
   "name": "python3"
  },
  "language_info": {
   "codemirror_mode": {
    "name": "ipython",
    "version": 3
   },
   "file_extension": ".py",
   "mimetype": "text/x-python",
   "name": "python",
   "nbconvert_exporter": "python",
   "pygments_lexer": "ipython3",
   "version": "3.8.3"
  }
 },
 "nbformat": 4,
 "nbformat_minor": 4
}
