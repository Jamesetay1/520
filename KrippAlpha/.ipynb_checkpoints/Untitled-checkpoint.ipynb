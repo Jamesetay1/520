{
 "cells": [
  {
   "cell_type": "code",
   "execution_count": 3,
   "metadata": {},
   "outputs": [
    {
     "name": "stdout",
     "output_type": "stream",
     "text": [
      "[[0 0 0 0 0 0 0 0 0 0 0 0 0 0 0 0 1 0 0 0 0 0 0 0 0 0 0 0 0 0 0 0 0 0 0 1\n",
      "  0 0 0 0 0 0 0 0 0 0 0 0 0 0 0 0 0 0 0 0 0 0 0 0 0 0 0 0 0 0 0 1 0 0 0 0\n",
      "  0 0 0 0 0 0 0 0 0 0 0 0 0 0 0 0 1 0 0 0 0 0 0 0 0 0 0 0 0 0 0 0 0 0 0 0\n",
      "  0 0 1 0 0 0 0 0 0 0 0 0 0 0 0 0 0 0 0 0 0 0 0 0 0 0 0 0 0 1]\n",
      " [0 0 0 0 0 0 0 0 0 0 0 0 0 0 0 0 1 0 0 0 0 0 0 0 0 0 0 0 0 0 0 0 0 0 0 1\n",
      "  0 0 0 0 0 0 0 0 0 0 0 0 0 0 0 0 0 0 0 0 0 0 0 0 0 0 0 0 0 0 0 1 0 0 0 0\n",
      "  0 0 0 0 0 0 0 0 0 0 0 0 0 0 0 0 1 0 0 0 0 0 0 0 0 0 0 0 0 0 0 0 0 0 0 0\n",
      "  0 0 1 0 0 0 0 0 0 0 0 0 0 0 0 0 0 0 0 0 0 0 0 0 0 0 0 0 0 1]\n",
      " [0 0 0 0 0 0 0 0 0 0 0 0 0 0 0 0 1 0 0 0 0 0 0 0 0 0 0 0 0 0 0 0 0 0 0 1\n",
      "  0 0 0 0 0 0 0 0 0 0 0 0 0 0 0 0 0 0 0 0 0 0 0 0 0 0 0 0 0 0 0 1 0 0 0 0\n",
      "  0 0 0 0 0 0 0 0 0 0 0 0 0 0 0 0 1 0 0 0 0 0 0 0 0 0 0 0 0 0 0 0 0 0 0 0\n",
      "  0 0 1 0 0 0 0 0 0 0 0 0 0 0 0 0 0 0 0 0 0 0 0 0 0 0 0 0 0 1]]\n",
      "1.0\n"
     ]
    }
   ],
   "source": [
    "import re\n",
    "import numpy as np \n",
    "\n",
    "#Import 3 files\n",
    "file1 = open(\"test1.txt\",\"r+\")\n",
    "file2 = open(\"test2.txt\",\"r+\") \n",
    "file3 = open(\"test3.txt\",\"r+\")\n",
    "\n",
    "file1str = file1.read()\n",
    "file2str = file2.read()\n",
    "file3str = file3.read()\n",
    " \n",
    "#tinyfile1 = open(\"tinytest1.txt\", \"r+\")\n",
    "#tinyfile1str = tinyfile1.read()\n",
    "\n",
    "#Create Function to create matrix from string\n",
    "def parse_to_vector(filexstr):\n",
    "    wordList = re.findall(\"\\s?\\S*\\s?\", filexstr)[:-1]\n",
    "    wordcount = len(wordList)\n",
    "    \n",
    "    #print(wordList)\n",
    "    #print(wordcount)\n",
    "    \n",
    "    vector = np.zeros(wordcount, dtype=int)\n",
    "    for i in range(len(vector)):\n",
    "        if  '|' in wordList[i]:\n",
    "            vector[i]=1\n",
    "        \n",
    "    #print(vector)\n",
    "    return(vector)\n",
    "\n",
    "#Get vectors and combine 3 vectors into matrix\n",
    "#parse_to_vector(tinyfile1str)\n",
    "vector1 = parse_to_vector(file1str)\n",
    "vector2 = parse_to_vector(file2str)\n",
    "vector3 = parse_to_vector(file3str)\n",
    "\n",
    "matrix = np.stack((vector1, vector2, vector3), axis = 0)\n",
    "print(matrix)\n",
    "\n",
    "#Run Krippendorfs Alpha on matrix\n",
    "import krippendorff\n",
    "ka_value = krippendorff.alpha(matrix)\n",
    "print(ka_value)"
   ]
  },
  {
   "cell_type": "code",
   "execution_count": null,
   "metadata": {},
   "outputs": [],
   "source": []
  },
  {
   "cell_type": "code",
   "execution_count": null,
   "metadata": {},
   "outputs": [],
   "source": []
  },
  {
   "cell_type": "code",
   "execution_count": null,
   "metadata": {},
   "outputs": [],
   "source": []
  }
 ],
 "metadata": {
  "kernelspec": {
   "display_name": "Python 3",
   "language": "python",
   "name": "python3"
  },
  "language_info": {
   "codemirror_mode": {
    "name": "ipython",
    "version": 3
   },
   "file_extension": ".py",
   "mimetype": "text/x-python",
   "name": "python",
   "nbconvert_exporter": "python",
   "pygments_lexer": "ipython3",
   "version": "3.8.3"
  }
 },
 "nbformat": 4,
 "nbformat_minor": 2
}
