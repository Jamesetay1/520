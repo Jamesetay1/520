{
 "cells": [
  {
   "cell_type": "code",
   "execution_count": 1,
   "metadata": {},
   "outputs": [
    {
     "name": "stdout",
     "output_type": "stream",
     "text": [
      "[[0 0 0 ... 0 0 1]\n",
      " [0 0 0 ... 0 0 1]\n",
      " [0 0 0 ... 0 0 1]]\n"
     ]
    },
    {
     "ename": "ModuleNotFoundError",
     "evalue": "No module named 'krippendorff'",
     "output_type": "error",
     "traceback": [
      "\u001b[1;31m---------------------------------------------------------------------------\u001b[0m",
      "\u001b[1;31mModuleNotFoundError\u001b[0m                       Traceback (most recent call last)",
      "\u001b[1;32m<ipython-input-1-8a4ee9e82b3e>\u001b[0m in \u001b[0;36m<module>\u001b[1;34m\u001b[0m\n\u001b[0;32m     32\u001b[0m \u001b[1;33m\u001b[0m\u001b[0m\n\u001b[0;32m     33\u001b[0m \u001b[1;31m#Run Krippendorfs Alpha on matrix\u001b[0m\u001b[1;33m\u001b[0m\u001b[1;33m\u001b[0m\u001b[1;33m\u001b[0m\u001b[0m\n\u001b[1;32m---> 34\u001b[1;33m \u001b[1;32mimport\u001b[0m \u001b[0mkrippendorff\u001b[0m\u001b[1;33m\u001b[0m\u001b[1;33m\u001b[0m\u001b[0m\n\u001b[0m\u001b[0;32m     35\u001b[0m \u001b[0mka_value\u001b[0m \u001b[1;33m=\u001b[0m \u001b[0mkrippendorff\u001b[0m\u001b[1;33m.\u001b[0m\u001b[0malpha\u001b[0m\u001b[1;33m(\u001b[0m\u001b[0mmatrix\u001b[0m\u001b[1;33m)\u001b[0m\u001b[1;33m\u001b[0m\u001b[1;33m\u001b[0m\u001b[0m\n\u001b[0;32m     36\u001b[0m \u001b[0mprint\u001b[0m\u001b[1;33m(\u001b[0m\u001b[0mka_value\u001b[0m\u001b[1;33m)\u001b[0m\u001b[1;33m\u001b[0m\u001b[1;33m\u001b[0m\u001b[0m\n",
      "\u001b[1;31mModuleNotFoundError\u001b[0m: No module named 'krippendorff'"
     ]
    }
   ],
   "source": [
    "import re\n",
    "import numpy as np \n",
    "\n",
    "#Import 3 files\n",
    "file1 = open(\"textfiles/James_DrSuess.txt\",\"r+\")\n",
    "file2 = open(\"textfiles/Sondoss_SentToken_DrSuess.txt\",\"r+\") \n",
    "file3 = open(\"textfiles/Laura_DrSuess.txt\",\"r+\")\n",
    "\n",
    "file1str = file1.read()\n",
    "file2str = file2.read()\n",
    "file3str = file3.read()\n",
    "\n",
    "#Create Function to create matrix from string\n",
    "def parse_to_vector(filexstr):\n",
    "    wordList = re.findall(\"\\s?\\S*\\s?\", filexstr)[:-1]\n",
    "    wordcount = len(wordList)\n",
    "\n",
    "    vector = np.zeros(wordcount, dtype=int)\n",
    "    for i in range(len(vector)):\n",
    "        if '|' in wordList[i]:\n",
    "            vector[i]=1\n",
    "        \n",
    "    return(vector)\n",
    "\n",
    "#Get vectors and combine 3 vectors into matrix\n",
    "vector1 = parse_to_vector(file1str)\n",
    "vector2 = parse_to_vector(file2str)\n",
    "vector3 = parse_to_vector(file3str)\n",
    "\n",
    "matrix = np.stack((vector1, vector2, vector3), axis = 0)\n",
    "print(matrix)\n",
    "\n",
    "#Run Krippendorfs Alpha on matrix\n",
    "import krippendorff\n",
    "ka_value = krippendorff.alpha(matrix)\n",
    "print(ka_value)"
   ]
  },
  {
   "cell_type": "code",
   "execution_count": null,
   "metadata": {},
   "outputs": [],
   "source": []
  },
  {
   "cell_type": "code",
   "execution_count": null,
   "metadata": {},
   "outputs": [],
   "source": []
  },
  {
   "cell_type": "code",
   "execution_count": null,
   "metadata": {},
   "outputs": [],
   "source": []
  }
 ],
 "metadata": {
  "kernelspec": {
   "display_name": "Python 3",
   "language": "python",
   "name": "python3"
  },
  "language_info": {
   "codemirror_mode": {
    "name": "ipython",
    "version": 3
   },
   "file_extension": ".py",
   "mimetype": "text/x-python",
   "name": "python",
   "nbconvert_exporter": "python",
   "pygments_lexer": "ipython3",
   "version": "3.7.4"
  }
 },
 "nbformat": 4,
 "nbformat_minor": 2
}
